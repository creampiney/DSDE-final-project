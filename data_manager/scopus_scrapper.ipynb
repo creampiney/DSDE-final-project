{
 "cells": [
  {
   "cell_type": "markdown",
   "metadata": {
    "id": "RERPkXY2b7tI"
   },
   "source": [
    "# Scopus Scrapper"
   ]
  },
  {
   "cell_type": "code",
   "execution_count": 153,
   "metadata": {
    "id": "Zszm-OkybzZU"
   },
   "outputs": [],
   "source": [
    "queryText = \"data\"\n",
    "counts = 200\n",
    "# Your API key obtained from Elsevier Developer Portal\n",
    "API_KEY = '4ed47d847e4bf40990b3535919df219a'"
   ]
  },
  {
   "cell_type": "code",
   "execution_count": 154,
   "metadata": {
    "id": "7dAAwZBgcl--"
   },
   "outputs": [],
   "source": [
    "from bs4 import BeautifulSoup\n",
    "import requests\n",
    "import json\n",
    "import pandas as pd\n",
    "import numpy as np\n",
    "from tqdm import tqdm"
   ]
  },
  {
   "cell_type": "markdown",
   "metadata": {},
   "source": [
    "## Get all researches, authors, and affiliations id from provided data"
   ]
  },
  {
   "cell_type": "code",
   "execution_count": 155,
   "metadata": {},
   "outputs": [],
   "source": [
    "researches_id_set = set()\n",
    "authors_id_set = set()\n",
    "affiliations_id_set = set()"
   ]
  },
  {
   "cell_type": "code",
   "execution_count": 156,
   "metadata": {},
   "outputs": [],
   "source": [
    "provided_researches_df = pd.read_csv(\"../data/researches.csv\", index_col=0)\n",
    "provided_authors_df = pd.read_csv(\"../data/authors.csv\", index_col=0)\n",
    "provided_affiliations_df = pd.read_csv(\"../data/affiliations.csv\", index_col=0)"
   ]
  },
  {
   "cell_type": "code",
   "execution_count": 157,
   "metadata": {},
   "outputs": [],
   "source": [
    "researches_id_set = set(provided_researches_df['id'])\n",
    "authors_id_set = set(provided_authors_df['id'])\n",
    "affiliations_id_set = set(provided_affiliations_df['id'])"
   ]
  },
  {
   "cell_type": "markdown",
   "metadata": {},
   "source": [
    "## Scraping from Scopus API"
   ]
  },
  {
   "cell_type": "code",
   "execution_count": 158,
   "metadata": {
    "id": "7LXuKKGacoj2"
   },
   "outputs": [],
   "source": [
    "# Scopus API endpoint for document search\n",
    "SCOPUS_API_URL = 'https://api.elsevier.com/content/search/scopus'\n",
    "\n",
    "def query_scopus(query, count, year, start):\n",
    "    params = {\n",
    "        'apiKey': API_KEY,  # Include your API key here\n",
    "        'query': query,\n",
    "        'count': count,\n",
    "        'date': year,\n",
    "        'start': start,\n",
    "    }\n",
    "\n",
    "    response = requests.get(SCOPUS_API_URL, params=params)\n",
    "\n",
    "    if response.status_code == 200:\n",
    "        data = response.json()\n",
    "        return data\n",
    "    else:\n",
    "        # print(f\"Failed to query Scopus API. Status code: {response.status_code}\")\n",
    "        # print(response.text)\n",
    "        return None"
   ]
  },
  {
   "cell_type": "code",
   "execution_count": 159,
   "metadata": {
    "id": "D_wxNmxdcszw"
   },
   "outputs": [],
   "source": [
    "def scopus_finder(queryText, counts, year, start=0):\n",
    "    results = query_scopus(queryText, counts, year, start)\n",
    "    \n",
    "    if results:\n",
    "        # print(\"Search Successful\")\n",
    "        return [e[\"dc:identifier\"].split(\":\")[1] for e in results[\"search-results\"][\"entry\"]]\n",
    "    else:\n",
    "        # print(\"Search Failed\")\n",
    "        return []\n",
    "    "
   ]
  },
  {
   "cell_type": "code",
   "execution_count": 168,
   "metadata": {
    "id": "PWcNJ5UMcv4c"
   },
   "outputs": [],
   "source": [
    "def get_full_text_id(id, api_key):\n",
    "    crossref_api_url = f'https://api.elsevier.com/content/abstract/scopus_id/{id}'\n",
    "    response = requests.get(crossref_api_url ,headers={\"Accept\" : \"application/json\",\"X-ELS-APIKey\" : api_key },params={\"view\" : \"FULL\"})\n",
    "    if response.status_code == 200:\n",
    "        data = json.loads(response.text)\n",
    "        return data\n",
    "    else:\n",
    "        print(f\"Failed to fetch full-text. Status code: {response.status_code}\")\n",
    "    return None"
   ]
  },
  {
   "cell_type": "code",
   "execution_count": 161,
   "metadata": {
    "colab": {
     "base_uri": "https://localhost:8080/"
    },
    "id": "pmpvTzeVcxlC",
    "outputId": "28747c76-e48a-4ccc-d18b-fb2604373451"
   },
   "outputs": [
    {
     "name": "stderr",
     "output_type": "stream",
     "text": [
      "100%|███████████████████████████████████████████████████████████████████████████████████| 9/9 [24:04<00:00, 160.45s/it]\n"
     ]
    }
   ],
   "source": [
    "fetched_id_list = []\n",
    "\n",
    "for year in tqdm(range(2014, 2024)):\n",
    "    for start in range(0, 100000, counts):\n",
    "        cur_list = scopus_finder(queryText, counts, year, int(start))\n",
    "        if len(cur_list) == 0:\n",
    "            break\n",
    "        fetched_id_list += cur_list"
   ]
  },
  {
   "cell_type": "markdown",
   "metadata": {},
   "source": [
    "## Get Abstracts Retrieval"
   ]
  },
  {
   "cell_type": "code",
   "execution_count": 165,
   "metadata": {},
   "outputs": [],
   "source": [
    "authors_list = []\n",
    "affiliations_list = []\n",
    "papers_list = []"
   ]
  },
  {
   "cell_type": "code",
   "execution_count": 166,
   "metadata": {},
   "outputs": [],
   "source": [
    "def extract_json_from_data(data):\n",
    "    # Check if there is key in data\n",
    "    assert \"abstracts-retrieval-response\" in data\n",
    "\n",
    "    data = data[\"abstracts-retrieval-response\"]\n",
    "\n",
    "    if data.get(\"item\").get(\"bibrecord\").get(\"tail\") is None:\n",
    "        new_ref_id_list = []\n",
    "    else:\n",
    "        if type(data.get(\"item\").get(\"bibrecord\").get(\"tail\").get(\"bibliography\").get(\"reference\")) is dict:\n",
    "            ref_id_list = [data.get(\"item\").get(\"bibrecord\").get(\"tail\").get(\"bibliography\").get(\"reference\").get(\"ref-info\").get(\"refd-itemidlist\").get(\"itemid\")]\n",
    "        else:\n",
    "            ref_id_list = [field.get(\"ref-info\").get(\"refd-itemidlist\").get(\"itemid\") for field in data.get(\"item\").get(\"bibrecord\").get(\"tail\").get(\"bibliography\").get(\"reference\")] if data.get(\"item\").get(\"bibrecord\").get(\"tail\") else []\n",
    "        new_ref_id_list = []\n",
    "        for r in ref_id_list:\n",
    "            if type(r) is list:\n",
    "                new_ref = [g.get(\"$\") for g in r if g.get(\"@idtype\") in \"SGR\"][0]\n",
    "            else:\n",
    "                new_ref = r.get(\"$\")\n",
    "            new_ref_id_list.append(new_ref)\n",
    "\n",
    "    # Authors\n",
    "    if data.get(\"authors\").get(\"author\"):\n",
    "        for author in data.get(\"authors\").get(\"author\"):\n",
    "            author_id = author.get(\"@auid\")\n",
    "            if author_id in authors_id_set:\n",
    "                continue\n",
    "\n",
    "            if type(author.get(\"affiliation\")) is dict:\n",
    "                aff_list = [author.get(\"affiliation\")]\n",
    "            else :\n",
    "                aff_list = author.get(\"affiliation\") if author.get(\"affiliation\") else []\n",
    "\n",
    "            authors_id_set.add(author_id)\n",
    "            authors_list.append({\n",
    "                \"id\": author_id,\n",
    "                \"given_name\": author.get(\"ce:given-name\"),\n",
    "                \"initials\": author.get(\"ce:initials\"),\n",
    "                \"surname\": author.get(\"ce:surname\"),\n",
    "                \"indexed_name\": author.get(\"ce:indexed-name\"),\n",
    "                \"affiliations_id\": \"|\".join(set([a.get(\"@id\") for a in aff_list]))\n",
    "            })\n",
    "\n",
    "    # Affiliations\n",
    "    if data.get(\"affiliation\"):\n",
    "        if type(data.get(\"affiliation\")) is dict:\n",
    "            aff_list = [data.get(\"affiliation\")]\n",
    "        else:\n",
    "            aff_list = data.get(\"affiliation\") if data.get(\"affiliation\") else []\n",
    "            \n",
    "        for aff in aff_list:\n",
    "            \n",
    "            if aff.get(\"@id\") in affiliations_id_set:\n",
    "                continue\n",
    "            \n",
    "\n",
    "            affiliations_id_set.add(aff.get(\"@id\"))\n",
    "            affiliations_list.append({\n",
    "                \"id\": aff.get(\"@id\"),\n",
    "                \"name\": aff.get(\"affilname\"),\n",
    "                \"city\": aff.get(\"affiliation-city\"),\n",
    "                \"country\": aff.get(\"affiliation-country\"),\n",
    "            })\n",
    "\n",
    "    # Research\n",
    "    return {\n",
    "        \"id\": data.get(\"coredata\").get(\"dc:identifier\").split(\":\")[1],\n",
    "        \"doi\": data.get(\"coredata\").get(\"prism:doi\"),\n",
    "        \"eid\": data.get(\"coredata\").get(\"eid\"),\n",
    "        \"cover_date\": data.get(\"coredata\").get(\"prism:coverDate\"),\n",
    "        \"title\": data.get(\"item\").get(\"bibrecord\").get(\"head\").get(\"citation-title\"),\n",
    "        \"abstract\": data.get(\"item\").get(\"bibrecord\").get(\"head\").get(\"abstracts\"),\n",
    "        \"subject_areas\": \"|\".join(set([field.get(\"@abbrev\") for field in data.get(\"subject-areas\").get(\"subject-area\")])) if data.get(\"subject-areas\").get(\"subject-area\") else \"\",\n",
    "        \"auth_keywords\": \"|\".join(set([field.get(\"$\") for field in data.get(\"auth-keywords\")])) if data.get(\"auth-keywords\") else \"\",\n",
    "        \"authors_id\": \"|\".join(set([field.get(\"@auid\") for field in data.get(\"authors\").get(\"author\")])) if data.get(\"authors\").get(\"author\") else \"\",\n",
    "        \"citedby_count\": data.get(\"coredata\").get(\"citedby-count\"),\n",
    "        \"ref_count\": data.get(\"item\").get(\"bibrecord\").get(\"tail\").get(\"bibliography\").get(\"@refcount\") if data.get(\"item\").get(\"bibrecord\").get(\"tail\") else 0,\n",
    "        \"ref_ids\": \"|\".join(new_ref_id_list),\n",
    "        \"published_year\": data.get(\"coredata\").get(\"prism:coverDate\").split(\"-\")[0],\n",
    "        \"published_month\": data.get(\"coredata\").get(\"prism:coverDate\").split(\"-\")[1],\n",
    "        \"published_day\": data.get(\"coredata\").get(\"prism:coverDate\").split(\"-\")[2],\n",
    "    }"
   ]
  },
  {
   "cell_type": "code",
   "execution_count": 174,
   "metadata": {},
   "outputs": [
    {
     "name": "stderr",
     "output_type": "stream",
     "text": [
      "100%|██████████████████████████████████████████████████████████████████████████| 50000/50000 [7:17:25<00:00,  1.91it/s]\n"
     ]
    }
   ],
   "source": [
    "api_key_list = ['49e301ab27670d477a58dbda7017afaa', '4d63f2fb8818ed78e56f87f827e63814', '02cdad2f7107da8afd15dd0d6d60d576', '8d8d49bdc4f2a5da0ce3f6fc9c2db2f7', 'e25c586349486b09dad4e824158cc752', '888f9cb63ff0518476ec776ca4d6116f']\n",
    "cnt = 1500\n",
    "idx = -1\n",
    "errcnt = 0\n",
    "\n",
    "for research_id in tqdm(fetched_id_list):\n",
    "    # Skip some research because of too long time to process\n",
    "    idx += 1\n",
    "    if idx%2 == 0:\n",
    "        continue\n",
    "    if research_id in researches_id_set:\n",
    "        continue\n",
    "        \n",
    "    try:\n",
    "        data = get_full_text_id(research_id, api_key_list[(cnt//9000)%6])\n",
    "        json_obj = extract_json_from_data(data)\n",
    "        papers_list.append(json_obj)\n",
    "        researches_id_set.add(research_id)\n",
    "    except Exception as err:\n",
    "        errcnt += 1\n",
    "    cnt += 1"
   ]
  },
  {
   "cell_type": "markdown",
   "metadata": {},
   "source": [
    "## Additional Researches from Provided Data"
   ]
  },
  {
   "cell_type": "code",
   "execution_count": 175,
   "metadata": {},
   "outputs": [
    {
     "data": {
      "text/html": [
       "<div>\n",
       "<style scoped>\n",
       "    .dataframe tbody tr th:only-of-type {\n",
       "        vertical-align: middle;\n",
       "    }\n",
       "\n",
       "    .dataframe tbody tr th {\n",
       "        vertical-align: top;\n",
       "    }\n",
       "\n",
       "    .dataframe thead th {\n",
       "        text-align: right;\n",
       "    }\n",
       "</style>\n",
       "<table border=\"1\" class=\"dataframe\">\n",
       "  <thead>\n",
       "    <tr style=\"text-align: right;\">\n",
       "      <th></th>\n",
       "      <th>id</th>\n",
       "      <th>doi</th>\n",
       "      <th>eid</th>\n",
       "      <th>cover_date</th>\n",
       "      <th>title</th>\n",
       "      <th>abstract</th>\n",
       "      <th>subject_areas</th>\n",
       "      <th>auth_keywords</th>\n",
       "      <th>authors_id</th>\n",
       "      <th>citedby_count</th>\n",
       "      <th>ref_count</th>\n",
       "      <th>ref_ids</th>\n",
       "      <th>published_year</th>\n",
       "      <th>published_month</th>\n",
       "      <th>published_day</th>\n",
       "    </tr>\n",
       "  </thead>\n",
       "  <tbody>\n",
       "    <tr>\n",
       "      <th>0</th>\n",
       "      <td>85160777146</td>\n",
       "      <td>10.32871/rmrj1402.02.02</td>\n",
       "      <td>2-s2.0-85160777146</td>\n",
       "      <td>2014-12-31</td>\n",
       "      <td>Life Expectancy Simulation Model among HIV (Hu...</td>\n",
       "      <td>© 2014, University of San Jose-Recoletos. All ...</td>\n",
       "      <td>MULT</td>\n",
       "      <td></td>\n",
       "      <td>58297949800|58296000800|58295018000</td>\n",
       "      <td>0</td>\n",
       "      <td>34</td>\n",
       "      <td>47649115323|77955145227|84874147989|3375120946...</td>\n",
       "      <td>2014</td>\n",
       "      <td>12</td>\n",
       "      <td>31</td>\n",
       "    </tr>\n",
       "    <tr>\n",
       "      <th>1</th>\n",
       "      <td>85160751303</td>\n",
       "      <td>10.32871/rmrj1402.02.04</td>\n",
       "      <td>2-s2.0-85160751303</td>\n",
       "      <td>2014-12-31</td>\n",
       "      <td>Philippine Enhanced Basic Education (K to12) D...</td>\n",
       "      <td>© 2014, University of San Jose-Recoletos. All ...</td>\n",
       "      <td>MULT</td>\n",
       "      <td></td>\n",
       "      <td>58295510100|58297507100</td>\n",
       "      <td>0</td>\n",
       "      <td>22</td>\n",
       "      <td>51649092717|84883034321|33644510693|8516074256...</td>\n",
       "      <td>2014</td>\n",
       "      <td>12</td>\n",
       "      <td>31</td>\n",
       "    </tr>\n",
       "    <tr>\n",
       "      <th>2</th>\n",
       "      <td>85160675925</td>\n",
       "      <td>10.32871/rmrj1402.02.06</td>\n",
       "      <td>2-s2.0-85160675925</td>\n",
       "      <td>2014-12-31</td>\n",
       "      <td>2014 Classroom Practices of Teacher Interns in...</td>\n",
       "      <td>© 2014, University of San Jose-Recoletos. All ...</td>\n",
       "      <td>MULT</td>\n",
       "      <td></td>\n",
       "      <td>57193817095|56946110200</td>\n",
       "      <td>0</td>\n",
       "      <td>44</td>\n",
       "      <td>85013222320|1942482427|57649112222|23844469406...</td>\n",
       "      <td>2014</td>\n",
       "      <td>12</td>\n",
       "      <td>31</td>\n",
       "    </tr>\n",
       "    <tr>\n",
       "      <th>3</th>\n",
       "      <td>85160631510</td>\n",
       "      <td>10.32871/rmrj1402.02.19</td>\n",
       "      <td>2-s2.0-85160631510</td>\n",
       "      <td>2014-12-31</td>\n",
       "      <td>Financial Assessment of A Credit Union In West...</td>\n",
       "      <td>© 2014, University of San Jose-Recoletos. All ...</td>\n",
       "      <td>MULT</td>\n",
       "      <td></td>\n",
       "      <td>58161348400|58295187500</td>\n",
       "      <td>0</td>\n",
       "      <td>13</td>\n",
       "      <td>10244246384|85129791155|85160648394|8516063619...</td>\n",
       "      <td>2014</td>\n",
       "      <td>12</td>\n",
       "      <td>31</td>\n",
       "    </tr>\n",
       "    <tr>\n",
       "      <th>4</th>\n",
       "      <td>85160623655</td>\n",
       "      <td>10.32871/rmrj1402.02.16</td>\n",
       "      <td>2-s2.0-85160623655</td>\n",
       "      <td>2014-12-31</td>\n",
       "      <td>Factors Affecting Business Stability among ASE...</td>\n",
       "      <td>© 2014, University of San Jose-Recoletos. All ...</td>\n",
       "      <td>MULT</td>\n",
       "      <td></td>\n",
       "      <td>58296000700|58296172100|58295675200|58246298400</td>\n",
       "      <td>0</td>\n",
       "      <td>23</td>\n",
       "      <td>85160610888|85160643134|77953581116|8516067355...</td>\n",
       "      <td>2014</td>\n",
       "      <td>12</td>\n",
       "      <td>31</td>\n",
       "    </tr>\n",
       "  </tbody>\n",
       "</table>\n",
       "</div>"
      ],
      "text/plain": [
       "            id                      doi                 eid  cover_date  \\\n",
       "0  85160777146  10.32871/rmrj1402.02.02  2-s2.0-85160777146  2014-12-31   \n",
       "1  85160751303  10.32871/rmrj1402.02.04  2-s2.0-85160751303  2014-12-31   \n",
       "2  85160675925  10.32871/rmrj1402.02.06  2-s2.0-85160675925  2014-12-31   \n",
       "3  85160631510  10.32871/rmrj1402.02.19  2-s2.0-85160631510  2014-12-31   \n",
       "4  85160623655  10.32871/rmrj1402.02.16  2-s2.0-85160623655  2014-12-31   \n",
       "\n",
       "                                               title  \\\n",
       "0  Life Expectancy Simulation Model among HIV (Hu...   \n",
       "1  Philippine Enhanced Basic Education (K to12) D...   \n",
       "2  2014 Classroom Practices of Teacher Interns in...   \n",
       "3  Financial Assessment of A Credit Union In West...   \n",
       "4  Factors Affecting Business Stability among ASE...   \n",
       "\n",
       "                                            abstract subject_areas  \\\n",
       "0  © 2014, University of San Jose-Recoletos. All ...          MULT   \n",
       "1  © 2014, University of San Jose-Recoletos. All ...          MULT   \n",
       "2  © 2014, University of San Jose-Recoletos. All ...          MULT   \n",
       "3  © 2014, University of San Jose-Recoletos. All ...          MULT   \n",
       "4  © 2014, University of San Jose-Recoletos. All ...          MULT   \n",
       "\n",
       "  auth_keywords                                       authors_id  \\\n",
       "0                            58297949800|58296000800|58295018000   \n",
       "1                                        58295510100|58297507100   \n",
       "2                                        57193817095|56946110200   \n",
       "3                                        58161348400|58295187500   \n",
       "4                58296000700|58296172100|58295675200|58246298400   \n",
       "\n",
       "  citedby_count ref_count                                            ref_ids  \\\n",
       "0             0        34  47649115323|77955145227|84874147989|3375120946...   \n",
       "1             0        22  51649092717|84883034321|33644510693|8516074256...   \n",
       "2             0        44  85013222320|1942482427|57649112222|23844469406...   \n",
       "3             0        13  10244246384|85129791155|85160648394|8516063619...   \n",
       "4             0        23  85160610888|85160643134|77953581116|8516067355...   \n",
       "\n",
       "  published_year published_month published_day  \n",
       "0           2014              12            31  \n",
       "1           2014              12            31  \n",
       "2           2014              12            31  \n",
       "3           2014              12            31  \n",
       "4           2014              12            31  "
      ]
     },
     "execution_count": 175,
     "metadata": {},
     "output_type": "execute_result"
    }
   ],
   "source": [
    "research_df = pd.json_normalize(papers_list) \n",
    "research_df.head()"
   ]
  },
  {
   "cell_type": "code",
   "execution_count": 176,
   "metadata": {},
   "outputs": [
    {
     "data": {
      "text/plain": [
       "(24951, 15)"
      ]
     },
     "execution_count": 176,
     "metadata": {},
     "output_type": "execute_result"
    }
   ],
   "source": [
    "research_df.shape"
   ]
  },
  {
   "cell_type": "markdown",
   "metadata": {},
   "source": [
    "## Additional Authors from Provided Data"
   ]
  },
  {
   "cell_type": "code",
   "execution_count": 177,
   "metadata": {},
   "outputs": [
    {
     "data": {
      "text/html": [
       "<div>\n",
       "<style scoped>\n",
       "    .dataframe tbody tr th:only-of-type {\n",
       "        vertical-align: middle;\n",
       "    }\n",
       "\n",
       "    .dataframe tbody tr th {\n",
       "        vertical-align: top;\n",
       "    }\n",
       "\n",
       "    .dataframe thead th {\n",
       "        text-align: right;\n",
       "    }\n",
       "</style>\n",
       "<table border=\"1\" class=\"dataframe\">\n",
       "  <thead>\n",
       "    <tr style=\"text-align: right;\">\n",
       "      <th></th>\n",
       "      <th>id</th>\n",
       "      <th>given_name</th>\n",
       "      <th>initials</th>\n",
       "      <th>surname</th>\n",
       "      <th>indexed_name</th>\n",
       "      <th>affiliations_id</th>\n",
       "    </tr>\n",
       "  </thead>\n",
       "  <tbody>\n",
       "    <tr>\n",
       "      <th>0</th>\n",
       "      <td>58295018000</td>\n",
       "      <td>Melvin R.</td>\n",
       "      <td>M.R.</td>\n",
       "      <td>de Castro</td>\n",
       "      <td>de Castro M.R.</td>\n",
       "      <td>60089610</td>\n",
       "    </tr>\n",
       "    <tr>\n",
       "      <th>1</th>\n",
       "      <td>58296000800</td>\n",
       "      <td>Tonette M.</td>\n",
       "      <td>T.M.</td>\n",
       "      <td>Villanueva</td>\n",
       "      <td>Villanueva T.M.</td>\n",
       "      <td>60089610</td>\n",
       "    </tr>\n",
       "    <tr>\n",
       "      <th>2</th>\n",
       "      <td>58297949800</td>\n",
       "      <td>Ronnie B.</td>\n",
       "      <td>R.B.</td>\n",
       "      <td>Gonzalve</td>\n",
       "      <td>Gonzalve R.B.</td>\n",
       "      <td>60089610</td>\n",
       "    </tr>\n",
       "    <tr>\n",
       "      <th>3</th>\n",
       "      <td>58295510100</td>\n",
       "      <td>Helmae N.</td>\n",
       "      <td>H.N.</td>\n",
       "      <td>Etulle</td>\n",
       "      <td>Etulle H.N.</td>\n",
       "      <td>60089610</td>\n",
       "    </tr>\n",
       "    <tr>\n",
       "      <th>4</th>\n",
       "      <td>58297507100</td>\n",
       "      <td>Cindy M.</td>\n",
       "      <td>C.M.</td>\n",
       "      <td>Carmelotes</td>\n",
       "      <td>Carmelotes C.M.</td>\n",
       "      <td>60089610</td>\n",
       "    </tr>\n",
       "  </tbody>\n",
       "</table>\n",
       "</div>"
      ],
      "text/plain": [
       "            id  given_name initials     surname     indexed_name  \\\n",
       "0  58295018000   Melvin R.     M.R.   de Castro   de Castro M.R.   \n",
       "1  58296000800  Tonette M.     T.M.  Villanueva  Villanueva T.M.   \n",
       "2  58297949800   Ronnie B.     R.B.    Gonzalve    Gonzalve R.B.   \n",
       "3  58295510100   Helmae N.     H.N.      Etulle      Etulle H.N.   \n",
       "4  58297507100    Cindy M.     C.M.  Carmelotes  Carmelotes C.M.   \n",
       "\n",
       "  affiliations_id  \n",
       "0        60089610  \n",
       "1        60089610  \n",
       "2        60089610  \n",
       "3        60089610  \n",
       "4        60089610  "
      ]
     },
     "execution_count": 177,
     "metadata": {},
     "output_type": "execute_result"
    }
   ],
   "source": [
    "author_df = pd.json_normalize(authors_list)\n",
    "author_df.head()"
   ]
  },
  {
   "cell_type": "code",
   "execution_count": 178,
   "metadata": {},
   "outputs": [
    {
     "data": {
      "text/plain": [
       "(123452, 6)"
      ]
     },
     "execution_count": 178,
     "metadata": {},
     "output_type": "execute_result"
    }
   ],
   "source": [
    "author_df.shape"
   ]
  },
  {
   "cell_type": "markdown",
   "metadata": {},
   "source": [
    "## Additional Affiliations from Provided Data"
   ]
  },
  {
   "cell_type": "code",
   "execution_count": 179,
   "metadata": {},
   "outputs": [
    {
     "data": {
      "text/html": [
       "<div>\n",
       "<style scoped>\n",
       "    .dataframe tbody tr th:only-of-type {\n",
       "        vertical-align: middle;\n",
       "    }\n",
       "\n",
       "    .dataframe tbody tr th {\n",
       "        vertical-align: top;\n",
       "    }\n",
       "\n",
       "    .dataframe thead th {\n",
       "        text-align: right;\n",
       "    }\n",
       "</style>\n",
       "<table border=\"1\" class=\"dataframe\">\n",
       "  <thead>\n",
       "    <tr style=\"text-align: right;\">\n",
       "      <th></th>\n",
       "      <th>id</th>\n",
       "      <th>name</th>\n",
       "      <th>city</th>\n",
       "      <th>country</th>\n",
       "    </tr>\n",
       "  </thead>\n",
       "  <tbody>\n",
       "    <tr>\n",
       "      <th>0</th>\n",
       "      <td>60089610</td>\n",
       "      <td>University of San Jose-Recoletos</td>\n",
       "      <td>Cebu</td>\n",
       "      <td>Philippines</td>\n",
       "    </tr>\n",
       "    <tr>\n",
       "      <th>1</th>\n",
       "      <td>60134705</td>\n",
       "      <td>Cebu Normal University</td>\n",
       "      <td>Cebu</td>\n",
       "      <td>Philippines</td>\n",
       "    </tr>\n",
       "    <tr>\n",
       "      <th>2</th>\n",
       "      <td>60018181</td>\n",
       "      <td>Aletheia University</td>\n",
       "      <td>Tamsui</td>\n",
       "      <td>Taiwan</td>\n",
       "    </tr>\n",
       "    <tr>\n",
       "      <th>3</th>\n",
       "      <td>60071487</td>\n",
       "      <td>University of San Carlos</td>\n",
       "      <td>Cebu</td>\n",
       "      <td>Philippines</td>\n",
       "    </tr>\n",
       "    <tr>\n",
       "      <th>4</th>\n",
       "      <td>116553639</td>\n",
       "      <td>Widya Mandira Catholic University</td>\n",
       "      <td>Kupang, Timor</td>\n",
       "      <td>Indonesia</td>\n",
       "    </tr>\n",
       "  </tbody>\n",
       "</table>\n",
       "</div>"
      ],
      "text/plain": [
       "          id                               name           city      country\n",
       "0   60089610   University of San Jose-Recoletos           Cebu  Philippines\n",
       "1   60134705             Cebu Normal University           Cebu  Philippines\n",
       "2   60018181                Aletheia University         Tamsui       Taiwan\n",
       "3   60071487           University of San Carlos           Cebu  Philippines\n",
       "4  116553639  Widya Mandira Catholic University  Kupang, Timor    Indonesia"
      ]
     },
     "execution_count": 179,
     "metadata": {},
     "output_type": "execute_result"
    }
   ],
   "source": [
    "affiliation_df = pd.json_normalize(affiliations_list)\n",
    "affiliation_df.head()"
   ]
  },
  {
   "cell_type": "code",
   "execution_count": 180,
   "metadata": {},
   "outputs": [
    {
     "data": {
      "text/plain": [
       "(18776, 4)"
      ]
     },
     "execution_count": 180,
     "metadata": {},
     "output_type": "execute_result"
    }
   ],
   "source": [
    "affiliation_df.shape"
   ]
  },
  {
   "cell_type": "markdown",
   "metadata": {},
   "source": [
    "## Export to CSV"
   ]
  },
  {
   "cell_type": "code",
   "execution_count": 181,
   "metadata": {},
   "outputs": [],
   "source": [
    "research_df.to_csv(\"scraped_researches.csv\")\n",
    "author_df.to_csv(\"scraped_authors.csv\")\n",
    "affiliation_df.to_csv(\"scraped_affiliations.csv\")"
   ]
  },
  {
   "cell_type": "code",
   "execution_count": null,
   "metadata": {},
   "outputs": [],
   "source": []
  }
 ],
 "metadata": {
  "colab": {
   "provenance": []
  },
  "kernelspec": {
   "display_name": "Python 3 (ipykernel)",
   "language": "python",
   "name": "python3"
  },
  "language_info": {
   "codemirror_mode": {
    "name": "ipython",
    "version": 3
   },
   "file_extension": ".py",
   "mimetype": "text/x-python",
   "name": "python",
   "nbconvert_exporter": "python",
   "pygments_lexer": "ipython3",
   "version": "3.12.1"
  }
 },
 "nbformat": 4,
 "nbformat_minor": 4
}
