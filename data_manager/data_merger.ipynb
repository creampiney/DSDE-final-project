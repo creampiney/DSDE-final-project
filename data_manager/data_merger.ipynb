{
 "cells": [
  {
   "cell_type": "markdown",
   "id": "e9fc3f24-7d50-4f4c-ae8a-cd9cc827e29c",
   "metadata": {},
   "source": [
    "## Merge provided data and scraped data"
   ]
  },
  {
   "cell_type": "code",
   "execution_count": 1,
   "id": "f91fd49c-6c12-4f70-a21d-89c4a957c0d3",
   "metadata": {},
   "outputs": [],
   "source": [
    "import numpy as np\n",
    "import pandas as pd"
   ]
  },
  {
   "cell_type": "code",
   "execution_count": 2,
   "id": "c9308de3-a00d-4214-9667-c584f4a6956e",
   "metadata": {},
   "outputs": [],
   "source": [
    "provided_researches_df = pd.read_csv(\"../data/researches.csv\", index_col=0)\n",
    "scraped_researches_df = pd.read_csv(\"../data/scraped_researches.csv\", index_col=0)\n",
    "\n",
    "provided_authors_df = pd.read_csv(\"../data/authors.csv\", index_col=0)\n",
    "scraped_authors_df = pd.read_csv(\"../data/scraped_authors.csv\", index_col=0)\n",
    "\n",
    "provided_affiliations_df = pd.read_csv(\"../data/affiliations.csv\", index_col=0)\n",
    "scraped_affiliations_df = pd.read_csv(\"../data/scraped_affiliations.csv\", index_col=0)"
   ]
  },
  {
   "cell_type": "code",
   "execution_count": 13,
   "id": "396218b4-da54-4c46-b479-5b4f27aec205",
   "metadata": {},
   "outputs": [],
   "source": [
    "researches_df = pd.concat([provided_researches_df, scraped_researches_df])\n",
    "authors_df = pd.concat([provided_authors_df, scraped_authors_df])\n",
    "affiliations_df = pd.concat([provided_affiliations_df, scraped_affiliations_df])"
   ]
  },
  {
   "cell_type": "markdown",
   "id": "eb2f4995-183c-42d2-b359-102154e6a472",
   "metadata": {},
   "source": [
    "## Export as CSV"
   ]
  },
  {
   "cell_type": "code",
   "execution_count": 14,
   "id": "af5c4123-0015-4edc-ba1b-3e6bd1025e2e",
   "metadata": {},
   "outputs": [],
   "source": [
    "researches_df.to_csv(\"merged_researches.csv\")\n",
    "authors_df.to_csv(\"merged_authors.csv\")\n",
    "affiliations_df.to_csv(\"merged_affiliations.csv\")"
   ]
  },
  {
   "cell_type": "code",
   "execution_count": null,
   "id": "29ecb7d1-822b-404e-9f85-63223f86b174",
   "metadata": {},
   "outputs": [],
   "source": []
  }
 ],
 "metadata": {
  "kernelspec": {
   "display_name": "Python 3 (ipykernel)",
   "language": "python",
   "name": "python3"
  },
  "language_info": {
   "codemirror_mode": {
    "name": "ipython",
    "version": 3
   },
   "file_extension": ".py",
   "mimetype": "text/x-python",
   "name": "python",
   "nbconvert_exporter": "python",
   "pygments_lexer": "ipython3",
   "version": "3.12.1"
  }
 },
 "nbformat": 4,
 "nbformat_minor": 5
}
